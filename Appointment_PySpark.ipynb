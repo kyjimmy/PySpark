{
 "cells": [
  {
   "cell_type": "markdown",
   "metadata": {},
   "source": [
    "## Data Analysis Using PySpark SQL & ML"
   ]
  },
  {
   "cell_type": "markdown",
   "metadata": {},
   "source": [
    "This project uses distributed query engine, Spark SQL, to analyze the 'Medical Appointment No Shows' dataset from [Kaggle](https://www.kaggle.com/joniarroba/noshowappointments)."
   ]
  },
  {
   "cell_type": "markdown",
   "metadata": {},
   "source": [
    "**Dataset**: Medical Appointment No Shows\n",
    "\n",
    "**Context**: Approxiamtely 30% of patients miss their scheduled appointments, is there a way to predict whether the patient will show up based on demographic and clinical variables? \n",
    "\n",
    "**Independet Variables**: Gender, age, appointment day, medical condition, SMS notification, etc\n",
    "\n",
    "**Dependet Variable**: Show/No-show"
   ]
  },
  {
   "cell_type": "markdown",
   "metadata": {},
   "source": [
    "### Load Data"
   ]
  },
  {
   "cell_type": "markdown",
   "metadata": {},
   "source": [
    "Install PySpark."
   ]
  },
  {
   "cell_type": "code",
   "execution_count": 1,
   "metadata": {},
   "outputs": [],
   "source": [
    "#!pip install pyspark"
   ]
  },
  {
   "cell_type": "markdown",
   "metadata": {},
   "source": [
    "Create Spark session."
   ]
  },
  {
   "cell_type": "code",
   "execution_count": 2,
   "metadata": {},
   "outputs": [],
   "source": [
    "from pyspark.sql import SparkSession\n",
    "\n",
    "appointment_csv = 'KaggleV2-May-2016.csv'\n",
    "spark = SparkSession.builder.appName('ml-appointment').getOrCreate()\n",
    "df = spark.read.csv(appointment_csv, header = True, inferSchema = True)"
   ]
  },
  {
   "cell_type": "markdown",
   "metadata": {},
   "source": [
    "### Check Data"
   ]
  },
  {
   "cell_type": "markdown",
   "metadata": {},
   "source": [
    "Show first 5 rows. df.show(5) can be used alternatively."
   ]
  },
  {
   "cell_type": "code",
   "execution_count": 3,
   "metadata": {},
   "outputs": [
    {
     "data": {
      "text/html": [
       "<div>\n",
       "<style scoped>\n",
       "    .dataframe tbody tr th:only-of-type {\n",
       "        vertical-align: middle;\n",
       "    }\n",
       "\n",
       "    .dataframe tbody tr th {\n",
       "        vertical-align: top;\n",
       "    }\n",
       "\n",
       "    .dataframe thead th {\n",
       "        text-align: right;\n",
       "    }\n",
       "</style>\n",
       "<table border=\"1\" class=\"dataframe\">\n",
       "  <thead>\n",
       "    <tr style=\"text-align: right;\">\n",
       "      <th></th>\n",
       "      <th>0</th>\n",
       "      <th>1</th>\n",
       "      <th>2</th>\n",
       "      <th>3</th>\n",
       "      <th>4</th>\n",
       "    </tr>\n",
       "  </thead>\n",
       "  <tbody>\n",
       "    <tr>\n",
       "      <td>PatientId</td>\n",
       "      <td>2.98725e+13</td>\n",
       "      <td>5.58998e+14</td>\n",
       "      <td>4.26296e+12</td>\n",
       "      <td>8.67951e+11</td>\n",
       "      <td>8.84119e+12</td>\n",
       "    </tr>\n",
       "    <tr>\n",
       "      <td>AppointmentID</td>\n",
       "      <td>5642903</td>\n",
       "      <td>5642503</td>\n",
       "      <td>5642549</td>\n",
       "      <td>5642828</td>\n",
       "      <td>5642494</td>\n",
       "    </tr>\n",
       "    <tr>\n",
       "      <td>Gender</td>\n",
       "      <td>F</td>\n",
       "      <td>M</td>\n",
       "      <td>F</td>\n",
       "      <td>F</td>\n",
       "      <td>F</td>\n",
       "    </tr>\n",
       "    <tr>\n",
       "      <td>ScheduledDay</td>\n",
       "      <td>2016-04-29 14:38:08</td>\n",
       "      <td>2016-04-29 12:08:27</td>\n",
       "      <td>2016-04-29 12:19:04</td>\n",
       "      <td>2016-04-29 13:29:31</td>\n",
       "      <td>2016-04-29 12:07:23</td>\n",
       "    </tr>\n",
       "    <tr>\n",
       "      <td>AppointmentDay</td>\n",
       "      <td>2016-04-28 20:00:00</td>\n",
       "      <td>2016-04-28 20:00:00</td>\n",
       "      <td>2016-04-28 20:00:00</td>\n",
       "      <td>2016-04-28 20:00:00</td>\n",
       "      <td>2016-04-28 20:00:00</td>\n",
       "    </tr>\n",
       "    <tr>\n",
       "      <td>Age</td>\n",
       "      <td>62</td>\n",
       "      <td>56</td>\n",
       "      <td>62</td>\n",
       "      <td>8</td>\n",
       "      <td>56</td>\n",
       "    </tr>\n",
       "    <tr>\n",
       "      <td>Neighbourhood</td>\n",
       "      <td>JARDIM DA PENHA</td>\n",
       "      <td>JARDIM DA PENHA</td>\n",
       "      <td>MATA DA PRAIA</td>\n",
       "      <td>PONTAL DE CAMBURI</td>\n",
       "      <td>JARDIM DA PENHA</td>\n",
       "    </tr>\n",
       "    <tr>\n",
       "      <td>Scholarship</td>\n",
       "      <td>0</td>\n",
       "      <td>0</td>\n",
       "      <td>0</td>\n",
       "      <td>0</td>\n",
       "      <td>0</td>\n",
       "    </tr>\n",
       "    <tr>\n",
       "      <td>Hipertension</td>\n",
       "      <td>1</td>\n",
       "      <td>0</td>\n",
       "      <td>0</td>\n",
       "      <td>0</td>\n",
       "      <td>1</td>\n",
       "    </tr>\n",
       "    <tr>\n",
       "      <td>Diabetes</td>\n",
       "      <td>0</td>\n",
       "      <td>0</td>\n",
       "      <td>0</td>\n",
       "      <td>0</td>\n",
       "      <td>1</td>\n",
       "    </tr>\n",
       "    <tr>\n",
       "      <td>Alcoholism</td>\n",
       "      <td>0</td>\n",
       "      <td>0</td>\n",
       "      <td>0</td>\n",
       "      <td>0</td>\n",
       "      <td>0</td>\n",
       "    </tr>\n",
       "    <tr>\n",
       "      <td>Handcap</td>\n",
       "      <td>0</td>\n",
       "      <td>0</td>\n",
       "      <td>0</td>\n",
       "      <td>0</td>\n",
       "      <td>0</td>\n",
       "    </tr>\n",
       "    <tr>\n",
       "      <td>SMS_received</td>\n",
       "      <td>0</td>\n",
       "      <td>0</td>\n",
       "      <td>0</td>\n",
       "      <td>0</td>\n",
       "      <td>0</td>\n",
       "    </tr>\n",
       "    <tr>\n",
       "      <td>No-show</td>\n",
       "      <td>No</td>\n",
       "      <td>No</td>\n",
       "      <td>No</td>\n",
       "      <td>No</td>\n",
       "      <td>No</td>\n",
       "    </tr>\n",
       "  </tbody>\n",
       "</table>\n",
       "</div>"
      ],
      "text/plain": [
       "                                  0                    1                    2  \\\n",
       "PatientId               2.98725e+13          5.58998e+14          4.26296e+12   \n",
       "AppointmentID               5642903              5642503              5642549   \n",
       "Gender                            F                    M                    F   \n",
       "ScheduledDay    2016-04-29 14:38:08  2016-04-29 12:08:27  2016-04-29 12:19:04   \n",
       "AppointmentDay  2016-04-28 20:00:00  2016-04-28 20:00:00  2016-04-28 20:00:00   \n",
       "Age                              62                   56                   62   \n",
       "Neighbourhood       JARDIM DA PENHA      JARDIM DA PENHA        MATA DA PRAIA   \n",
       "Scholarship                       0                    0                    0   \n",
       "Hipertension                      1                    0                    0   \n",
       "Diabetes                          0                    0                    0   \n",
       "Alcoholism                        0                    0                    0   \n",
       "Handcap                           0                    0                    0   \n",
       "SMS_received                      0                    0                    0   \n",
       "No-show                          No                   No                   No   \n",
       "\n",
       "                                  3                    4  \n",
       "PatientId               8.67951e+11          8.84119e+12  \n",
       "AppointmentID               5642828              5642494  \n",
       "Gender                            F                    F  \n",
       "ScheduledDay    2016-04-29 13:29:31  2016-04-29 12:07:23  \n",
       "AppointmentDay  2016-04-28 20:00:00  2016-04-28 20:00:00  \n",
       "Age                               8                   56  \n",
       "Neighbourhood     PONTAL DE CAMBURI      JARDIM DA PENHA  \n",
       "Scholarship                       0                    0  \n",
       "Hipertension                      0                    1  \n",
       "Diabetes                          0                    1  \n",
       "Alcoholism                        0                    0  \n",
       "Handcap                           0                    0  \n",
       "SMS_received                      0                    0  \n",
       "No-show                          No                   No  "
      ]
     },
     "execution_count": 3,
     "metadata": {},
     "output_type": "execute_result"
    }
   ],
   "source": [
    "df.limit(5).toPandas().transpose()"
   ]
  },
  {
   "cell_type": "markdown",
   "metadata": {},
   "source": [
    "Print out schema in tree format."
   ]
  },
  {
   "cell_type": "code",
   "execution_count": 4,
   "metadata": {},
   "outputs": [
    {
     "name": "stdout",
     "output_type": "stream",
     "text": [
      "root\n",
      " |-- PatientId: double (nullable = true)\n",
      " |-- AppointmentID: integer (nullable = true)\n",
      " |-- Gender: string (nullable = true)\n",
      " |-- ScheduledDay: timestamp (nullable = true)\n",
      " |-- AppointmentDay: timestamp (nullable = true)\n",
      " |-- Age: integer (nullable = true)\n",
      " |-- Neighbourhood: string (nullable = true)\n",
      " |-- Scholarship: integer (nullable = true)\n",
      " |-- Hipertension: integer (nullable = true)\n",
      " |-- Diabetes: integer (nullable = true)\n",
      " |-- Alcoholism: integer (nullable = true)\n",
      " |-- Handcap: integer (nullable = true)\n",
      " |-- SMS_received: integer (nullable = true)\n",
      " |-- No-show: string (nullable = true)\n",
      "\n"
     ]
    }
   ],
   "source": [
    "df.printSchema()"
   ]
  },
  {
   "cell_type": "markdown",
   "metadata": {},
   "source": [
    "Get descriptive statistics."
   ]
  },
  {
   "cell_type": "code",
   "execution_count": 5,
   "metadata": {},
   "outputs": [
    {
     "data": {
      "text/html": [
       "<div>\n",
       "<style scoped>\n",
       "    .dataframe tbody tr th:only-of-type {\n",
       "        vertical-align: middle;\n",
       "    }\n",
       "\n",
       "    .dataframe tbody tr th {\n",
       "        vertical-align: top;\n",
       "    }\n",
       "\n",
       "    .dataframe thead th {\n",
       "        text-align: right;\n",
       "    }\n",
       "</style>\n",
       "<table border=\"1\" class=\"dataframe\">\n",
       "  <thead>\n",
       "    <tr style=\"text-align: right;\">\n",
       "      <th></th>\n",
       "      <th>0</th>\n",
       "      <th>1</th>\n",
       "      <th>2</th>\n",
       "      <th>3</th>\n",
       "      <th>4</th>\n",
       "    </tr>\n",
       "  </thead>\n",
       "  <tbody>\n",
       "    <tr>\n",
       "      <td>summary</td>\n",
       "      <td>count</td>\n",
       "      <td>mean</td>\n",
       "      <td>stddev</td>\n",
       "      <td>min</td>\n",
       "      <td>max</td>\n",
       "    </tr>\n",
       "    <tr>\n",
       "      <td>PatientId</td>\n",
       "      <td>110527</td>\n",
       "      <td>1.474962657103957E14</td>\n",
       "      <td>2.560949202917392E14</td>\n",
       "      <td>39217.84439</td>\n",
       "      <td>9.99981631772427E14</td>\n",
       "    </tr>\n",
       "    <tr>\n",
       "      <td>AppointmentID</td>\n",
       "      <td>110527</td>\n",
       "      <td>5675305.123426855</td>\n",
       "      <td>71295.75153968473</td>\n",
       "      <td>5030230</td>\n",
       "      <td>5790484</td>\n",
       "    </tr>\n",
       "    <tr>\n",
       "      <td>Gender</td>\n",
       "      <td>110527</td>\n",
       "      <td>None</td>\n",
       "      <td>None</td>\n",
       "      <td>F</td>\n",
       "      <td>M</td>\n",
       "    </tr>\n",
       "    <tr>\n",
       "      <td>Age</td>\n",
       "      <td>110527</td>\n",
       "      <td>37.08887421173107</td>\n",
       "      <td>23.110204963682648</td>\n",
       "      <td>-1</td>\n",
       "      <td>115</td>\n",
       "    </tr>\n",
       "    <tr>\n",
       "      <td>Neighbourhood</td>\n",
       "      <td>110527</td>\n",
       "      <td>None</td>\n",
       "      <td>None</td>\n",
       "      <td>AEROPORTO</td>\n",
       "      <td>VILA RUBIM</td>\n",
       "    </tr>\n",
       "    <tr>\n",
       "      <td>Scholarship</td>\n",
       "      <td>110527</td>\n",
       "      <td>0.09826558216544373</td>\n",
       "      <td>0.2976747541093073</td>\n",
       "      <td>0</td>\n",
       "      <td>1</td>\n",
       "    </tr>\n",
       "    <tr>\n",
       "      <td>Hipertension</td>\n",
       "      <td>110527</td>\n",
       "      <td>0.1972459218109602</td>\n",
       "      <td>0.3979213499470851</td>\n",
       "      <td>0</td>\n",
       "      <td>1</td>\n",
       "    </tr>\n",
       "    <tr>\n",
       "      <td>Diabetes</td>\n",
       "      <td>110527</td>\n",
       "      <td>0.07186479321794674</td>\n",
       "      <td>0.2582650735074665</td>\n",
       "      <td>0</td>\n",
       "      <td>1</td>\n",
       "    </tr>\n",
       "    <tr>\n",
       "      <td>Alcoholism</td>\n",
       "      <td>110527</td>\n",
       "      <td>0.030399811810688793</td>\n",
       "      <td>0.17168555541424446</td>\n",
       "      <td>0</td>\n",
       "      <td>1</td>\n",
       "    </tr>\n",
       "    <tr>\n",
       "      <td>Handcap</td>\n",
       "      <td>110527</td>\n",
       "      <td>0.022247957512643968</td>\n",
       "      <td>0.16154272581427837</td>\n",
       "      <td>0</td>\n",
       "      <td>4</td>\n",
       "    </tr>\n",
       "    <tr>\n",
       "      <td>SMS_received</td>\n",
       "      <td>110527</td>\n",
       "      <td>0.32102563174608917</td>\n",
       "      <td>0.4668727317018674</td>\n",
       "      <td>0</td>\n",
       "      <td>1</td>\n",
       "    </tr>\n",
       "    <tr>\n",
       "      <td>No-show</td>\n",
       "      <td>110527</td>\n",
       "      <td>None</td>\n",
       "      <td>None</td>\n",
       "      <td>No</td>\n",
       "      <td>Yes</td>\n",
       "    </tr>\n",
       "  </tbody>\n",
       "</table>\n",
       "</div>"
      ],
      "text/plain": [
       "                    0                     1                     2  \\\n",
       "summary         count                  mean                stddev   \n",
       "PatientId      110527  1.474962657103957E14  2.560949202917392E14   \n",
       "AppointmentID  110527     5675305.123426855     71295.75153968473   \n",
       "Gender         110527                  None                  None   \n",
       "Age            110527     37.08887421173107    23.110204963682648   \n",
       "Neighbourhood  110527                  None                  None   \n",
       "Scholarship    110527   0.09826558216544373    0.2976747541093073   \n",
       "Hipertension   110527    0.1972459218109602    0.3979213499470851   \n",
       "Diabetes       110527   0.07186479321794674    0.2582650735074665   \n",
       "Alcoholism     110527  0.030399811810688793   0.17168555541424446   \n",
       "Handcap        110527  0.022247957512643968   0.16154272581427837   \n",
       "SMS_received   110527   0.32102563174608917    0.4668727317018674   \n",
       "No-show        110527                  None                  None   \n",
       "\n",
       "                         3                    4  \n",
       "summary                min                  max  \n",
       "PatientId      39217.84439  9.99981631772427E14  \n",
       "AppointmentID      5030230              5790484  \n",
       "Gender                   F                    M  \n",
       "Age                     -1                  115  \n",
       "Neighbourhood    AEROPORTO           VILA RUBIM  \n",
       "Scholarship              0                    1  \n",
       "Hipertension             0                    1  \n",
       "Diabetes                 0                    1  \n",
       "Alcoholism               0                    1  \n",
       "Handcap                  0                    4  \n",
       "SMS_received             0                    1  \n",
       "No-show                 No                  Yes  "
      ]
     },
     "execution_count": 5,
     "metadata": {},
     "output_type": "execute_result"
    }
   ],
   "source": [
    "df.describe().toPandas().transpose()"
   ]
  },
  {
   "cell_type": "markdown",
   "metadata": {},
   "source": [
    "Based on the table above, we idenifited some issues in the dataset.\n",
    "\n",
    "- **1.** The minimum age is -1.\n",
    "- **2.** The column name 'Handcap' and 'Hipertension' should be 'Handicap' and 'Hypertension', respectively.\n",
    "- **3.** The column type of 'Gender' and 'No-show' are strings, which can be better represented by integers 0 and 1."
   ]
  },
  {
   "cell_type": "markdown",
   "metadata": {},
   "source": [
    "### Clean Data"
   ]
  },
  {
   "cell_type": "markdown",
   "metadata": {},
   "source": [
    "**1.** Remove patients with **age** <= 0 from the dataset."
   ]
  },
  {
   "cell_type": "code",
   "execution_count": 6,
   "metadata": {},
   "outputs": [],
   "source": [
    "df = df.filter(df.Age > 0)\n",
    "df = df.filter(df.Age < 115)"
   ]
  },
  {
   "cell_type": "markdown",
   "metadata": {},
   "source": [
    "**2.** Rename the **'Handcap'** and **'Hipertension'** columns to **'Handicap'** and **'Hypertension'**."
   ]
  },
  {
   "cell_type": "code",
   "execution_count": 7,
   "metadata": {},
   "outputs": [],
   "source": [
    "df = df.withColumnRenamed('Handcap', 'Handicap').withColumnRenamed('Hipertension', 'Hypertension')"
   ]
  },
  {
   "cell_type": "markdown",
   "metadata": {},
   "source": [
    "**3.** Change the cloumn type of **'Gender'** and **'No-show'** from string to integer."
   ]
  },
  {
   "cell_type": "code",
   "execution_count": 8,
   "metadata": {},
   "outputs": [],
   "source": [
    "from pyspark.sql.functions import when\n",
    "\n",
    "df = df.withColumn('Gender', when(df['Gender'] == 'F', 0).otherwise(1))\n",
    "df = df.withColumn('No-show', when(df['No-show'] == 'No', 0).otherwise(1))"
   ]
  },
  {
   "cell_type": "markdown",
   "metadata": {},
   "source": [
    "Confirm that changes are made correctly."
   ]
  },
  {
   "cell_type": "code",
   "execution_count": 9,
   "metadata": {
    "scrolled": false
   },
   "outputs": [
    {
     "data": {
      "text/html": [
       "<div>\n",
       "<style scoped>\n",
       "    .dataframe tbody tr th:only-of-type {\n",
       "        vertical-align: middle;\n",
       "    }\n",
       "\n",
       "    .dataframe tbody tr th {\n",
       "        vertical-align: top;\n",
       "    }\n",
       "\n",
       "    .dataframe thead th {\n",
       "        text-align: right;\n",
       "    }\n",
       "</style>\n",
       "<table border=\"1\" class=\"dataframe\">\n",
       "  <thead>\n",
       "    <tr style=\"text-align: right;\">\n",
       "      <th></th>\n",
       "      <th>0</th>\n",
       "      <th>1</th>\n",
       "      <th>2</th>\n",
       "      <th>3</th>\n",
       "      <th>4</th>\n",
       "    </tr>\n",
       "  </thead>\n",
       "  <tbody>\n",
       "    <tr>\n",
       "      <td>summary</td>\n",
       "      <td>count</td>\n",
       "      <td>mean</td>\n",
       "      <td>stddev</td>\n",
       "      <td>min</td>\n",
       "      <td>max</td>\n",
       "    </tr>\n",
       "    <tr>\n",
       "      <td>Age</td>\n",
       "      <td>106982</td>\n",
       "      <td>38.31250116842086</td>\n",
       "      <td>22.46062173471876</td>\n",
       "      <td>1</td>\n",
       "      <td>102</td>\n",
       "    </tr>\n",
       "    <tr>\n",
       "      <td>Gender</td>\n",
       "      <td>106982</td>\n",
       "      <td>0.34462806827316744</td>\n",
       "      <td>0.4752490652735633</td>\n",
       "      <td>0</td>\n",
       "      <td>1</td>\n",
       "    </tr>\n",
       "    <tr>\n",
       "      <td>Handicap</td>\n",
       "      <td>106982</td>\n",
       "      <td>0.022938438241947242</td>\n",
       "      <td>0.16400991987256588</td>\n",
       "      <td>0</td>\n",
       "      <td>4</td>\n",
       "    </tr>\n",
       "    <tr>\n",
       "      <td>Hypertension</td>\n",
       "      <td>106982</td>\n",
       "      <td>0.20377259725935204</td>\n",
       "      <td>0.4028037269982441</td>\n",
       "      <td>0</td>\n",
       "      <td>1</td>\n",
       "    </tr>\n",
       "    <tr>\n",
       "      <td>No-show</td>\n",
       "      <td>106982</td>\n",
       "      <td>0.20262287113720065</td>\n",
       "      <td>0.4019556610721983</td>\n",
       "      <td>0</td>\n",
       "      <td>1</td>\n",
       "    </tr>\n",
       "  </tbody>\n",
       "</table>\n",
       "</div>"
      ],
      "text/plain": [
       "                   0                     1                    2    3    4\n",
       "summary        count                  mean               stddev  min  max\n",
       "Age           106982     38.31250116842086    22.46062173471876    1  102\n",
       "Gender        106982   0.34462806827316744   0.4752490652735633    0    1\n",
       "Handicap      106982  0.022938438241947242  0.16400991987256588    0    4\n",
       "Hypertension  106982   0.20377259725935204   0.4028037269982441    0    1\n",
       "No-show       106982   0.20262287113720065   0.4019556610721983    0    1"
      ]
     },
     "execution_count": 9,
     "metadata": {},
     "output_type": "execute_result"
    }
   ],
   "source": [
    "df.describe(['Age','Gender','Handicap','Hypertension','No-show']).toPandas().transpose()"
   ]
  },
  {
   "cell_type": "markdown",
   "metadata": {},
   "source": [
    "### Explore Data "
   ]
  },
  {
   "cell_type": "markdown",
   "metadata": {},
   "source": [
    "Import plotting tools."
   ]
  },
  {
   "cell_type": "code",
   "execution_count": 10,
   "metadata": {},
   "outputs": [],
   "source": [
    "import seaborn as sns\n",
    "import matplotlib.pyplot as plt"
   ]
  },
  {
   "cell_type": "markdown",
   "metadata": {},
   "source": [
    "Create a scatterplot of **'Age'** against **'No-show'**."
   ]
  },
  {
   "cell_type": "code",
   "execution_count": 11,
   "metadata": {},
   "outputs": [
    {
     "data": {
      "image/png": "[encoded data removed]",
      "text/plain": [
       "<Figure size 432x288 with 1 Axes>"
      ]
     },
     "metadata": {
      "needs_background": "light"
     },
     "output_type": "display_data"
    }
   ],
   "source": [
    "variables = ['Age','Gender','Scholarship','Hypertension','Diabetes','Alcoholism','Handicap','SMS_received','No-show']\n",
    "plot_data = df.select(variables).toPandas()\n",
    "sns.scatterplot(data=plot_data, x='Age', y='No-show');"
   ]
  },
  {
   "cell_type": "markdown",
   "metadata": {},
   "source": [
    "This plot doesn't look paritcularly interesting. Let's look at other variables and see if they are correlated with **'No-show'**."
   ]
  },
  {
   "cell_type": "code",
   "execution_count": 12,
   "metadata": {},
   "outputs": [
    {
     "data": {
      "text/html": [
       "<div>\n",
       "<style scoped>\n",
       "    .dataframe tbody tr th:only-of-type {\n",
       "        vertical-align: middle;\n",
       "    }\n",
       "\n",
       "    .dataframe tbody tr th {\n",
       "        vertical-align: top;\n",
       "    }\n",
       "\n",
       "    .dataframe thead th {\n",
       "        text-align: right;\n",
       "    }\n",
       "</style>\n",
       "<table border=\"1\" class=\"dataframe\">\n",
       "  <thead>\n",
       "    <tr style=\"text-align: right;\">\n",
       "      <th></th>\n",
       "      <th>Age</th>\n",
       "      <th>Gender</th>\n",
       "      <th>Scholarship</th>\n",
       "      <th>Hypertension</th>\n",
       "      <th>Diabetes</th>\n",
       "      <th>Alcoholism</th>\n",
       "      <th>Handicap</th>\n",
       "      <th>SMS_received</th>\n",
       "      <th>No-show</th>\n",
       "    </tr>\n",
       "  </thead>\n",
       "  <tbody>\n",
       "    <tr>\n",
       "      <td>No-show</td>\n",
       "      <td>-0.067205</td>\n",
       "      <td>-0.003205</td>\n",
       "      <td>0.029387</td>\n",
       "      <td>-0.037248</td>\n",
       "      <td>-0.015916</td>\n",
       "      <td>-0.000508</td>\n",
       "      <td>-0.006698</td>\n",
       "      <td>0.127305</td>\n",
       "      <td>1.0</td>\n",
       "    </tr>\n",
       "  </tbody>\n",
       "</table>\n",
       "</div>"
      ],
      "text/plain": [
       "              Age    Gender  Scholarship  Hypertension  Diabetes  Alcoholism  \\\n",
       "No-show -0.067205 -0.003205     0.029387     -0.037248 -0.015916   -0.000508   \n",
       "\n",
       "         Handicap  SMS_received  No-show  \n",
       "No-show -0.006698      0.127305      1.0  "
      ]
     },
     "execution_count": 12,
     "metadata": {},
     "output_type": "execute_result"
    }
   ],
   "source": [
    "plot_data.corr()[8:9]"
   ]
  },
  {
   "cell_type": "markdown",
   "metadata": {},
   "source": [
    "Visualize the correlation table."
   ]
  },
  {
   "cell_type": "code",
   "execution_count": 13,
   "metadata": {},
   "outputs": [
    {
     "data": {
      "image/png": "[encoded data removed]",
      "text/plain": [
       "<Figure size 432x288 with 2 Axes>"
      ]
     },
     "metadata": {
      "needs_background": "light"
     },
     "output_type": "display_data"
    }
   ],
   "source": [
    "plt.imshow(plot_data.corr()[8:9], cmap='coolwarm')\n",
    "plt.colorbar(orientation='horizontal', pad=0.4)\n",
    "plt.xticks(range(9), variables)\n",
    "plt.xticks(rotation=30)\n",
    "plt.show()"
   ]
  },
  {
   "cell_type": "markdown",
   "metadata": {},
   "source": [
    "Our predictors are weakly correlated with the target varaible. Maybe we need to create some more useful features!"
   ]
  },
  {
   "cell_type": "markdown",
   "metadata": {},
   "source": [
    "### Feature Engineering"
   ]
  },
  {
   "cell_type": "markdown",
   "metadata": {},
   "source": [
    "**1.** We have columns 'ScheduledDay' and 'AppointmentDay', it is likely that the time difference between these columns, i.e. **waiting time**, will be more predictive of no-show. Therefore, we will create a new feature **WaitingDay**."
   ]
  },
  {
   "cell_type": "code",
   "execution_count": 14,
   "metadata": {},
   "outputs": [],
   "source": [
    "from pyspark.sql.functions import datediff, col\n",
    "\n",
    "df = df.withColumn('WaitingDay', datediff(col('AppointmentDay'),col('ScheduledDay')))\n",
    "df = df.filter(df.WaitingDay >= 0) # Remove invalid values"
   ]
  },
  {
   "cell_type": "markdown",
   "metadata": {},
   "source": [
    "Look at the Pearson Correlation between our new feature and target variable."
   ]
  },
  {
   "cell_type": "code",
   "execution_count": 15,
   "metadata": {},
   "outputs": [
    {
     "name": "stdout",
     "output_type": "stream",
     "text": [
      "Pearson Correlation coefficients:\n",
      "WaitingDay~NoShow: 0.0611\n"
     ]
    }
   ],
   "source": [
    "print('Pearson Correlation coefficients:\\nWaitingDay~NoShow: {:.4f}'.format(df.stat.corr('WaitingDay','No-show')))"
   ]
  },
  {
   "cell_type": "markdown",
   "metadata": {},
   "source": [
    "**2.** There may be an interaction effect between **WaitingDay** and **SMS_received**, such that getting a SMS notification will minimize the effect of **WaitingDay** on **No-show**. We will create a new variable **SMStime**."
   ]
  },
  {
   "cell_type": "code",
   "execution_count": 16,
   "metadata": {},
   "outputs": [],
   "source": [
    "df = df.withColumn('SMStime', (1-df.SMS_received) * df.WaitingDay)"
   ]
  },
  {
   "cell_type": "markdown",
   "metadata": {},
   "source": [
    "**3.** Day of the week of the appointment may be a good predictor. We will create a new feature **DayofWeek**, such that 'Sunday' = 0, 'Monday' = 1, etc."
   ]
  },
  {
   "cell_type": "code",
   "execution_count": 17,
   "metadata": {
    "scrolled": true
   },
   "outputs": [],
   "source": [
    "from pyspark.sql.functions import dayofweek\n",
    "\n",
    "df = df.withColumn('AppointmentDayofWeek', dayofweek('AppointmentDay'))"
   ]
  },
  {
   "cell_type": "markdown",
   "metadata": {},
   "source": [
    "Look at the distribution of our new feature."
   ]
  },
  {
   "cell_type": "code",
   "execution_count": 18,
   "metadata": {},
   "outputs": [
    {
     "name": "stdout",
     "output_type": "stream",
     "text": [
      "AppointmentDayofWeek  No-show\n",
      "1                     0           9880\n",
      "                      1           4240\n",
      "2                     0          11397\n",
      "                      1           4604\n",
      "3                     0          12058\n",
      "                      1           4493\n",
      "4                     0           7931\n",
      "                      1           2999\n",
      "5                     0           8605\n",
      "                      1           3586\n",
      "6                     0             22\n",
      "                      1              9\n",
      "dtype: int64\n"
     ]
    },
    {
     "data": {
      "image/png": "[encoded data removed]",
      "text/plain": [
       "<Figure size 432x288 with 1 Axes>"
      ]
     },
     "metadata": {
      "needs_background": "light"
     },
     "output_type": "display_data"
    }
   ],
   "source": [
    "day_data = df.select('AppointmentDayofWeek','No-show').toPandas()\n",
    "grouped_data = day_data.groupby(['AppointmentDayofWeek','No-show']).size()\n",
    "print(grouped_data);\n",
    "grouped_data.plot.bar();"
   ]
  },
  {
   "cell_type": "markdown",
   "metadata": {},
   "source": [
    "Transform the feature **DayofWeek** from integers to categorical variables."
   ]
  },
  {
   "cell_type": "code",
   "execution_count": 19,
   "metadata": {},
   "outputs": [],
   "source": [
    "from pyspark.ml.feature import OneHotEncoder\n",
    "\n",
    "encoder = OneHotEncoder(inputCols=['AppointmentDayofWeek'],outputCols=['AppointmentDayofWeek_Vec'])\n",
    "model = encoder.fit(df)\n",
    "df = model.transform(df)"
   ]
  },
  {
   "cell_type": "markdown",
   "metadata": {},
   "source": [
    "**4.** Month of the appointment day and day/month of scheduled day may also be good predictors. We will create new features **AppointmentMonth**, **ScheduleDay**, and **ScheduleMonth**."
   ]
  },
  {
   "cell_type": "code",
   "execution_count": 20,
   "metadata": {},
   "outputs": [],
   "source": [
    "from pyspark.sql.functions import month\n",
    "\n",
    "df = df.withColumn('ScheduledDayofWeek', dayofweek('ScheduledDay'))\n",
    "df = df.withColumn('ScheduledMonth', month('ScheduledDay'))\n",
    "df = df.withColumn('AppointmentMonth', month('AppointmentDay'))\n",
    "\n",
    "encoder = OneHotEncoder(inputCols=['ScheduledDayofWeek','ScheduledMonth','AppointmentMonth'],\n",
    "                        outputCols=['ScheduledDayofWeek_Vec','ScheduledMonth_Vec','AppointmentMonth_Vec'])\n",
    "model = encoder.fit(df)\n",
    "df = model.transform(df)"
   ]
  },
  {
   "cell_type": "markdown",
   "metadata": {},
   "source": [
    "**5.** Patients may have unexpected weekend plans so the No-show rate may be difffernt from that on weekdays. Therefore, we will create a new feature **Weekend**."
   ]
  },
  {
   "cell_type": "code",
   "execution_count": 21,
   "metadata": {},
   "outputs": [],
   "source": [
    "df = df.withColumn('Weekend', when(df['AppointmentDayofWeek'] == 0, 1).otherwise(0))"
   ]
  },
  {
   "cell_type": "markdown",
   "metadata": {},
   "source": [
    "**6.** As we have small number of patients with hypertension, diabetes, and alcoholism, grouping these variables together may be beneficial to represent general **Health**. Besides, we can recode **Handicap** variable into mild (0) and severe (1) conditions."
   ]
  },
  {
   "cell_type": "code",
   "execution_count": 22,
   "metadata": {},
   "outputs": [],
   "source": [
    "df = df.withColumn('Health', df.Hypertension + df.Diabetes + df.Alcoholism)\n",
    "df = df.withColumn('Handicap', when(df['Handicap'] <= 1, 0).otherwise(1))"
   ]
  },
  {
   "cell_type": "markdown",
   "metadata": {},
   "source": [
    "**7.** One-hot encdoing categorical feature **Neighbourhood**. "
   ]
  },
  {
   "cell_type": "code",
   "execution_count": 23,
   "metadata": {},
   "outputs": [],
   "source": [
    "from pyspark.ml.feature import StringIndexer\n",
    "\n",
    "stringIndexer = StringIndexer(inputCol='Neighbourhood', outputCol=\"Neighbourhood_Int\", stringOrderType=\"frequencyDesc\")\n",
    "model = stringIndexer.fit(df)\n",
    "df = model.transform(df)\n",
    "\n",
    "encoder = OneHotEncoder(inputCols=['Neighbourhood_Int'],outputCols=['Neighbourhood_Vec'])\n",
    "model = encoder.fit(df)\n",
    "df = model.transform(df)"
   ]
  },
  {
   "cell_type": "markdown",
   "metadata": {},
   "source": [
    "### Prepare Data for ML Classification"
   ]
  },
  {
   "cell_type": "markdown",
   "metadata": {},
   "source": [
    "Count the number of show/no-show in our cleaned dataset."
   ]
  },
  {
   "cell_type": "code",
   "execution_count": 24,
   "metadata": {
    "scrolled": true
   },
   "outputs": [
    {
     "name": "stdout",
     "output_type": "stream",
     "text": [
      "+-------+-----+\n",
      "|No-show|count|\n",
      "+-------+-----+\n",
      "|      1|19931|\n",
      "|      0|49893|\n",
      "+-------+-----+\n",
      "\n",
      "Percent of Absence: 0.2854\n"
     ]
    }
   ],
   "source": [
    "count = df.groupBy('No-show').count()\n",
    "count.show()\n",
    "count_array = count.collect()\n",
    "print('Percent of Absence: {:.4f}'.format(count_array[0]['count']/(count_array[0]['count']+count_array[1]['count'])))"
   ]
  },
  {
   "cell_type": "markdown",
   "metadata": {},
   "source": [
    "~28.5% of patients didn't show up. Although the distribution is not perfectly balanced, it is acceptable."
   ]
  },
  {
   "cell_type": "code",
   "execution_count": 25,
   "metadata": {},
   "outputs": [],
   "source": [
    "from pyspark.ml.feature import VectorAssembler\n",
    "\n",
    "interested_features = ['Age','Gender','Scholarship','Health','Handicap','SMS_received','SMStime',\n",
    "                       'WaitingDay','Neighbourhood_Vec','Weekend',\n",
    "                       'AppointmentDayofWeek_Vec','AppointmentMonth_Vec',\n",
    "                       'ScheduledDayofWeek_Vec','ScheduledMonth_Vec']\n",
    "assembler = VectorAssembler(inputCols=interested_features, outputCol='features')\n",
    "df_ml = assembler.transform(df)\n",
    "df_ml = df_ml.select(['features', 'No-show'])"
   ]
  },
  {
   "cell_type": "markdown",
   "metadata": {},
   "source": [
    "Split the dataframe into training and testing datasets."
   ]
  },
  {
   "cell_type": "code",
   "execution_count": 26,
   "metadata": {
    "scrolled": true
   },
   "outputs": [
    {
     "name": "stdout",
     "output_type": "stream",
     "text": [
      "Number of rows in the Training set: 48806\n",
      "Number of rows in the Testing set: 21018\n"
     ]
    }
   ],
   "source": [
    "splits = df_ml.randomSplit([0.7, 0.3])\n",
    "unstandardized_train_df = splits[0]\n",
    "unstandardized_test_df = splits[1]\n",
    "print('Number of rows in the Training set: {}'.format(unstandardized_train_df.count()))\n",
    "print('Number of rows in the Testing set: {}'.format(unstandardized_test_df.count()))"
   ]
  },
  {
   "cell_type": "markdown",
   "metadata": {},
   "source": [
    "Standardize the features to prepare data for modelling."
   ]
  },
  {
   "cell_type": "code",
   "execution_count": 27,
   "metadata": {},
   "outputs": [],
   "source": [
    "from pyspark.ml.feature import StandardScaler\n",
    "\n",
    "standardScaler = StandardScaler()\n",
    "standardScaler.setInputCol(\"features\")\n",
    "standardScaler.setOutputCol(\"scaled_features\")\n",
    "model = standardScaler.fit(unstandardized_train_df)\n",
    "train_df = model.transform(unstandardized_train_df)\n",
    "test_df = model.transform(unstandardized_test_df)"
   ]
  },
  {
   "cell_type": "markdown",
   "metadata": {},
   "source": [
    "### Build Machine Learning Models"
   ]
  },
  {
   "cell_type": "markdown",
   "metadata": {},
   "source": [
    "Define model evaluator which evaluates performance based on accuracy."
   ]
  },
  {
   "cell_type": "code",
   "execution_count": 28,
   "metadata": {},
   "outputs": [],
   "source": [
    "from pyspark.ml.evaluation import MulticlassClassificationEvaluator\n",
    "\n",
    "evaluator = MulticlassClassificationEvaluator(labelCol='No-show', metricName='accuracy')"
   ]
  },
  {
   "cell_type": "markdown",
   "metadata": {},
   "source": [
    "### 1. Logistic Regression"
   ]
  },
  {
   "cell_type": "code",
   "execution_count": 29,
   "metadata": {},
   "outputs": [
    {
     "name": "stdout",
     "output_type": "stream",
     "text": [
      "Logistic Regression Accuracy: 0.717765724616995\n"
     ]
    }
   ],
   "source": [
    "from pyspark.ml.classification import LogisticRegression\n",
    "\n",
    "lr = LogisticRegression(featuresCol = 'scaled_features', labelCol = 'No-show', maxIter=100)\n",
    "lrModel = lr.fit(train_df)\n",
    "lr_predictions = lrModel.transform(test_df)\n",
    "print('Logistic Regression Accuracy:', evaluator.evaluate(lr_predictions))"
   ]
  },
  {
   "cell_type": "markdown",
   "metadata": {},
   "source": [
    "### 2. Gradient-boosted Tree "
   ]
  },
  {
   "cell_type": "code",
   "execution_count": 30,
   "metadata": {},
   "outputs": [
    {
     "name": "stdout",
     "output_type": "stream",
     "text": [
      "Gradient-boosted Tree Accuracy: 0.7180987724807308\n"
     ]
    }
   ],
   "source": [
    "from pyspark.ml.classification import GBTClassifier\n",
    "\n",
    "gb = GBTClassifier(labelCol = 'No-show', featuresCol = 'scaled_features')\n",
    "gbModel = gb.fit(train_df)\n",
    "gb_predictions = gbModel.transform(test_df)\n",
    "print('Gradient-boosted Tree Accuracy:', evaluator.evaluate(gb_predictions))"
   ]
  },
  {
   "cell_type": "markdown",
   "metadata": {},
   "source": [
    "### 3. Random Forest"
   ]
  },
  {
   "cell_type": "code",
   "execution_count": 31,
   "metadata": {},
   "outputs": [
    {
     "name": "stdout",
     "output_type": "stream",
     "text": [
      "Random Forest classifier Accuracy: 0.7170996288895233\n"
     ]
    }
   ],
   "source": [
    "from pyspark.ml.classification import RandomForestClassifier\n",
    "\n",
    "rf = RandomForestClassifier(labelCol='No-show', featuresCol='scaled_features',maxDepth=5)\n",
    "rfModel = rf.fit(train_df)\n",
    "rf_predictions = rfModel.transform(test_df)\n",
    "print('Random Forest classifier Accuracy:', evaluator.evaluate(rf_predictions))"
   ]
  },
  {
   "cell_type": "markdown",
   "metadata": {},
   "source": [
    "### Conclusion"
   ]
  },
  {
   "cell_type": "markdown",
   "metadata": {},
   "source": [
    "The three models we have tested here have accuracy around 71.8%. In comparison, a dummy classifier that assumes all patients will show up will be (1 -0.2854)\\*100 = 71.46% correct. Therefore, the current models are not predictive of No-show. Why?\n",
    "\n",
    "It is possible that these models require finer tuning of hyperparameters or more exhaustive feature engineering (e.g. polynomials). In addition, most of the raw predictors provided in these datasets are weakly correlated with the target variable (r < 0.01), and the dataset may benefit from including other information, such as type of appointment (e.g. routine, consultation, surgery), referrals and departments (e.g. concology, neurology, cardiovascular).\n",
    "\n",
    "Nevertheless, this projects provide me an opportunity to test out PySpark functions and libraries, demonstrating the power of distributed processing to clean up, process and analyze large dataset.\n",
    "\n"
   ]
  }
 ],
 "metadata": {
  "kernelspec": {
   "display_name": "Python 3",
   "language": "python",
   "name": "python3"
  },
  "language_info": {
   "codemirror_mode": {
    "name": "ipython",
    "version": 3
   },
   "file_extension": ".py",
   "mimetype": "text/x-python",
   "name": "python",
   "nbconvert_exporter": "python",
   "pygments_lexer": "ipython3",
   "version": "3.7.4"
  }
 },
 "nbformat": 4,
 "nbformat_minor": 2
}
