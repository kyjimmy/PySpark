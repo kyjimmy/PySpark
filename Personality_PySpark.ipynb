{
 "cells": [
  {
   "cell_type": "markdown",
   "metadata": {},
   "source": [
    "## Data Analysis Using PySpark SQL\n",
    "\n",
    "This project uses distributed query engine, Spark SQL, to analyze the 'Top Personality Dataset' from [Kaggle](https://www.kaggle.com/arslanali4343/top-personality-dataset)."
   ]
  },
  {
   "cell_type": "markdown",
   "metadata": {},
   "source": [
    "### Setup Environment\n",
    "Install Pyspark."
   ]
  },
  {
   "cell_type": "code",
   "execution_count": 1,
   "metadata": {
    "scrolled": true
   },
   "outputs": [],
   "source": [
    "#!pip install pyspark"
   ]
  },
  {
   "cell_type": "markdown",
   "metadata": {},
   "source": [
    "Load required packages."
   ]
  },
  {
   "cell_type": "code",
   "execution_count": 2,
   "metadata": {
    "scrolled": true
   },
   "outputs": [],
   "source": [
    "from pyspark.sql import SparkSession\n",
    "from pyspark.sql.functions import count, desc, col, max, struct, isnan, when, avg, trim\n",
    "import matplotlib.pyplot as plt\n",
    "import seaborn as sns"
   ]
  },
  {
   "cell_type": "markdown",
   "metadata": {},
   "source": [
    "### Import Data (2018 Personality Dataset)\n",
    "\n",
    "Create an entry point to Spark SQL."
   ]
  },
  {
   "cell_type": "code",
   "execution_count": 3,
   "metadata": {
    "scrolled": true
   },
   "outputs": [],
   "source": [
    "spark = SparkSession.builder.appName(\"spark_instance\").getOrCreate()"
   ]
  },
  {
   "cell_type": "markdown",
   "metadata": {},
   "source": [
    "Define and import input file."
   ]
  },
  {
   "cell_type": "code",
   "execution_count": 4,
   "metadata": {
    "scrolled": true
   },
   "outputs": [],
   "source": [
    "personality_path = './personality/2018-personality-data.csv' #input file in csv format\n",
    "personality_df = spark.read.format('csv').option('inferSchema',True).option('header',True).load(personality_path)"
   ]
  },
  {
   "cell_type": "markdown",
   "metadata": {},
   "source": [
    "### Check Data\n",
    "\n",
    "Show shape of the dataframe"
   ]
  },
  {
   "cell_type": "code",
   "execution_count": 5,
   "metadata": {},
   "outputs": [
    {
     "name": "stdout",
     "output_type": "stream",
     "text": [
      "Number of rows: 1834\n",
      "Number of columns: 34\n"
     ]
    }
   ],
   "source": [
    "print(f'Number of rows: {personality_df.count()}\\nNumber of columns: {len(personality_df.columns)}')"
   ]
  },
  {
   "cell_type": "markdown",
   "metadata": {},
   "source": [
    "Show first 10 rows. **df.show(10)** can be used alternatively."
   ]
  },
  {
   "cell_type": "code",
   "execution_count": 6,
   "metadata": {
    "scrolled": false
   },
   "outputs": [
    {
     "data": {
      "text/html": [
       "<div>\n",
       "<style scoped>\n",
       "    .dataframe tbody tr th:only-of-type {\n",
       "        vertical-align: middle;\n",
       "    }\n",
       "\n",
       "    .dataframe tbody tr th {\n",
       "        vertical-align: top;\n",
       "    }\n",
       "\n",
       "    .dataframe thead th {\n",
       "        text-align: right;\n",
       "    }\n",
       "</style>\n",
       "<table border=\"1\" class=\"dataframe\">\n",
       "  <thead>\n",
       "    <tr style=\"text-align: right;\">\n",
       "      <th></th>\n",
       "      <th>userid</th>\n",
       "      <th>openness</th>\n",
       "      <th>agreeableness</th>\n",
       "      <th>emotional_stability</th>\n",
       "      <th>conscientiousness</th>\n",
       "      <th>extraversion</th>\n",
       "      <th>assigned metric</th>\n",
       "      <th>assigned condition</th>\n",
       "      <th>movie_1</th>\n",
       "      <th>predicted_rating_1</th>\n",
       "      <th>...</th>\n",
       "      <th>movie_9</th>\n",
       "      <th>predicted_rating_9</th>\n",
       "      <th>movie_10</th>\n",
       "      <th>predicted_rating_10</th>\n",
       "      <th>movie_11</th>\n",
       "      <th>predicted_rating_11</th>\n",
       "      <th>movie_12</th>\n",
       "      <th>predicted_rating_12</th>\n",
       "      <th>is_personalized</th>\n",
       "      <th>enjoy_watching</th>\n",
       "    </tr>\n",
       "  </thead>\n",
       "  <tbody>\n",
       "    <tr>\n",
       "      <td>0</td>\n",
       "      <td>8e7cebf9a234c064b75016249f2ac65e</td>\n",
       "      <td>5.0</td>\n",
       "      <td>2.0</td>\n",
       "      <td>3.0</td>\n",
       "      <td>2.5</td>\n",
       "      <td>6.5</td>\n",
       "      <td>serendipity</td>\n",
       "      <td>high</td>\n",
       "      <td>77658.0</td>\n",
       "      <td>4.410466</td>\n",
       "      <td>...</td>\n",
       "      <td>120138.0</td>\n",
       "      <td>4.244817</td>\n",
       "      <td>121372.0</td>\n",
       "      <td>4.396004</td>\n",
       "      <td>127152.0</td>\n",
       "      <td>4.120456</td>\n",
       "      <td>95311.0</td>\n",
       "      <td>4.053847</td>\n",
       "      <td>4.0</td>\n",
       "      <td>4.0</td>\n",
       "    </tr>\n",
       "    <tr>\n",
       "      <td>1</td>\n",
       "      <td>77c7d756a093150d4377720abeaeef76</td>\n",
       "      <td>7.0</td>\n",
       "      <td>4.0</td>\n",
       "      <td>6.0</td>\n",
       "      <td>5.5</td>\n",
       "      <td>4.0</td>\n",
       "      <td>all</td>\n",
       "      <td>default</td>\n",
       "      <td>94959.0</td>\n",
       "      <td>4.207280</td>\n",
       "      <td>...</td>\n",
       "      <td>56782.0</td>\n",
       "      <td>4.019599</td>\n",
       "      <td>5618.0</td>\n",
       "      <td>3.963953</td>\n",
       "      <td>969.0</td>\n",
       "      <td>4.174188</td>\n",
       "      <td>1232.0</td>\n",
       "      <td>4.334877</td>\n",
       "      <td>2.0</td>\n",
       "      <td>3.0</td>\n",
       "    </tr>\n",
       "    <tr>\n",
       "      <td>2</td>\n",
       "      <td>b7e8a92987a530cc368719a0e60e26a3</td>\n",
       "      <td>4.0</td>\n",
       "      <td>3.0</td>\n",
       "      <td>4.5</td>\n",
       "      <td>2.0</td>\n",
       "      <td>2.5</td>\n",
       "      <td>serendipity</td>\n",
       "      <td>medium</td>\n",
       "      <td>110501.0</td>\n",
       "      <td>4.868064</td>\n",
       "      <td>...</td>\n",
       "      <td>2288.0</td>\n",
       "      <td>4.823212</td>\n",
       "      <td>3307.0</td>\n",
       "      <td>4.676756</td>\n",
       "      <td>1172.0</td>\n",
       "      <td>4.649281</td>\n",
       "      <td>1212.0</td>\n",
       "      <td>4.744990</td>\n",
       "      <td>2.0</td>\n",
       "      <td>2.0</td>\n",
       "    </tr>\n",
       "    <tr>\n",
       "      <td>3</td>\n",
       "      <td>92561f21446e017dd6b68b94b23ad5b7</td>\n",
       "      <td>5.5</td>\n",
       "      <td>5.5</td>\n",
       "      <td>4.0</td>\n",
       "      <td>4.5</td>\n",
       "      <td>4.0</td>\n",
       "      <td>popularity</td>\n",
       "      <td>medium</td>\n",
       "      <td>2905.0</td>\n",
       "      <td>4.526371</td>\n",
       "      <td>...</td>\n",
       "      <td>3030.0</td>\n",
       "      <td>4.425689</td>\n",
       "      <td>1281.0</td>\n",
       "      <td>4.479921</td>\n",
       "      <td>940.0</td>\n",
       "      <td>4.355061</td>\n",
       "      <td>905.0</td>\n",
       "      <td>4.317927</td>\n",
       "      <td>3.0</td>\n",
       "      <td>3.0</td>\n",
       "    </tr>\n",
       "    <tr>\n",
       "      <td>4</td>\n",
       "      <td>030001ac2145a938b07e686a35a2d638</td>\n",
       "      <td>5.5</td>\n",
       "      <td>5.5</td>\n",
       "      <td>3.5</td>\n",
       "      <td>4.5</td>\n",
       "      <td>2.5</td>\n",
       "      <td>popularity</td>\n",
       "      <td>medium</td>\n",
       "      <td>2905.0</td>\n",
       "      <td>4.526371</td>\n",
       "      <td>...</td>\n",
       "      <td>3030.0</td>\n",
       "      <td>4.425689</td>\n",
       "      <td>1281.0</td>\n",
       "      <td>4.479921</td>\n",
       "      <td>940.0</td>\n",
       "      <td>4.355061</td>\n",
       "      <td>905.0</td>\n",
       "      <td>4.317927</td>\n",
       "      <td>2.0</td>\n",
       "      <td>3.0</td>\n",
       "    </tr>\n",
       "    <tr>\n",
       "      <td>5</td>\n",
       "      <td>f91b2fb085d0feb47b86fc81b10207ee</td>\n",
       "      <td>6.0</td>\n",
       "      <td>3.0</td>\n",
       "      <td>4.0</td>\n",
       "      <td>3.5</td>\n",
       "      <td>1.5</td>\n",
       "      <td>popularity</td>\n",
       "      <td>medium</td>\n",
       "      <td>2905.0</td>\n",
       "      <td>4.526371</td>\n",
       "      <td>...</td>\n",
       "      <td>3030.0</td>\n",
       "      <td>4.425689</td>\n",
       "      <td>1281.0</td>\n",
       "      <td>4.479921</td>\n",
       "      <td>940.0</td>\n",
       "      <td>4.355061</td>\n",
       "      <td>905.0</td>\n",
       "      <td>4.317927</td>\n",
       "      <td>2.0</td>\n",
       "      <td>4.0</td>\n",
       "    </tr>\n",
       "    <tr>\n",
       "      <td>6</td>\n",
       "      <td>f7b0502be8c86203ce6acaffe59f993a</td>\n",
       "      <td>4.5</td>\n",
       "      <td>4.0</td>\n",
       "      <td>6.0</td>\n",
       "      <td>5.0</td>\n",
       "      <td>4.0</td>\n",
       "      <td>diversity</td>\n",
       "      <td>low</td>\n",
       "      <td>1289.0</td>\n",
       "      <td>4.221673</td>\n",
       "      <td>...</td>\n",
       "      <td>1248.0</td>\n",
       "      <td>4.164153</td>\n",
       "      <td>1212.0</td>\n",
       "      <td>4.153351</td>\n",
       "      <td>2360.0</td>\n",
       "      <td>4.206983</td>\n",
       "      <td>5291.0</td>\n",
       "      <td>4.157934</td>\n",
       "      <td>3.0</td>\n",
       "      <td>4.0</td>\n",
       "    </tr>\n",
       "    <tr>\n",
       "      <td>7</td>\n",
       "      <td>36f31ef9879b4de96977aeba94878581</td>\n",
       "      <td>5.5</td>\n",
       "      <td>4.5</td>\n",
       "      <td>6.0</td>\n",
       "      <td>3.0</td>\n",
       "      <td>4.0</td>\n",
       "      <td>popularity</td>\n",
       "      <td>low</td>\n",
       "      <td>109243.0</td>\n",
       "      <td>4.300146</td>\n",
       "      <td>...</td>\n",
       "      <td>116897.0</td>\n",
       "      <td>4.101134</td>\n",
       "      <td>117444.0</td>\n",
       "      <td>4.138054</td>\n",
       "      <td>117192.0</td>\n",
       "      <td>4.164289</td>\n",
       "      <td>117533.0</td>\n",
       "      <td>4.231472</td>\n",
       "      <td>4.0</td>\n",
       "      <td>4.0</td>\n",
       "    </tr>\n",
       "    <tr>\n",
       "      <td>8</td>\n",
       "      <td>653bb2f69ddd19e1cf1f9e1871916d71</td>\n",
       "      <td>5.0</td>\n",
       "      <td>5.0</td>\n",
       "      <td>5.0</td>\n",
       "      <td>5.0</td>\n",
       "      <td>3.0</td>\n",
       "      <td>diversity</td>\n",
       "      <td>high</td>\n",
       "      <td>91658.0</td>\n",
       "      <td>5.021285</td>\n",
       "      <td>...</td>\n",
       "      <td>1035.0</td>\n",
       "      <td>4.710799</td>\n",
       "      <td>104241.0</td>\n",
       "      <td>4.587644</td>\n",
       "      <td>30749.0</td>\n",
       "      <td>4.870536</td>\n",
       "      <td>4886.0</td>\n",
       "      <td>4.622648</td>\n",
       "      <td>3.0</td>\n",
       "      <td>4.0</td>\n",
       "    </tr>\n",
       "    <tr>\n",
       "      <td>9</td>\n",
       "      <td>89d365a0d0f1a80ae8d079079a078155</td>\n",
       "      <td>6.0</td>\n",
       "      <td>6.5</td>\n",
       "      <td>2.0</td>\n",
       "      <td>2.5</td>\n",
       "      <td>3.0</td>\n",
       "      <td>diversity</td>\n",
       "      <td>high</td>\n",
       "      <td>91658.0</td>\n",
       "      <td>5.021285</td>\n",
       "      <td>...</td>\n",
       "      <td>1035.0</td>\n",
       "      <td>4.710799</td>\n",
       "      <td>104241.0</td>\n",
       "      <td>4.587644</td>\n",
       "      <td>30749.0</td>\n",
       "      <td>4.870536</td>\n",
       "      <td>4886.0</td>\n",
       "      <td>4.622648</td>\n",
       "      <td>3.0</td>\n",
       "      <td>2.0</td>\n",
       "    </tr>\n",
       "  </tbody>\n",
       "</table>\n",
       "<p>10 rows × 34 columns</p>\n",
       "</div>"
      ],
      "text/plain": [
       "                             userid   openness   agreeableness  \\\n",
       "0  8e7cebf9a234c064b75016249f2ac65e        5.0             2.0   \n",
       "1  77c7d756a093150d4377720abeaeef76        7.0             4.0   \n",
       "2  b7e8a92987a530cc368719a0e60e26a3        4.0             3.0   \n",
       "3  92561f21446e017dd6b68b94b23ad5b7        5.5             5.5   \n",
       "4  030001ac2145a938b07e686a35a2d638        5.5             5.5   \n",
       "5  f91b2fb085d0feb47b86fc81b10207ee        6.0             3.0   \n",
       "6  f7b0502be8c86203ce6acaffe59f993a        4.5             4.0   \n",
       "7  36f31ef9879b4de96977aeba94878581        5.5             4.5   \n",
       "8  653bb2f69ddd19e1cf1f9e1871916d71        5.0             5.0   \n",
       "9  89d365a0d0f1a80ae8d079079a078155        6.0             6.5   \n",
       "\n",
       "    emotional_stability   conscientiousness   extraversion  assigned metric  \\\n",
       "0                   3.0                 2.5            6.5      serendipity   \n",
       "1                   6.0                 5.5            4.0              all   \n",
       "2                   4.5                 2.0            2.5      serendipity   \n",
       "3                   4.0                 4.5            4.0       popularity   \n",
       "4                   3.5                 4.5            2.5       popularity   \n",
       "5                   4.0                 3.5            1.5       popularity   \n",
       "6                   6.0                 5.0            4.0        diversity   \n",
       "7                   6.0                 3.0            4.0       popularity   \n",
       "8                   5.0                 5.0            3.0        diversity   \n",
       "9                   2.0                 2.5            3.0        diversity   \n",
       "\n",
       "   assigned condition   movie_1   predicted_rating_1  ...   movie_9  \\\n",
       "0                high   77658.0             4.410466  ...  120138.0   \n",
       "1             default   94959.0             4.207280  ...   56782.0   \n",
       "2              medium  110501.0             4.868064  ...    2288.0   \n",
       "3              medium    2905.0             4.526371  ...    3030.0   \n",
       "4              medium    2905.0             4.526371  ...    3030.0   \n",
       "5              medium    2905.0             4.526371  ...    3030.0   \n",
       "6                 low    1289.0             4.221673  ...    1248.0   \n",
       "7                 low  109243.0             4.300146  ...  116897.0   \n",
       "8                high   91658.0             5.021285  ...    1035.0   \n",
       "9                high   91658.0             5.021285  ...    1035.0   \n",
       "\n",
       "    predicted_rating_9   movie_10   predicted_rating_10   movie_11  \\\n",
       "0             4.244817   121372.0              4.396004   127152.0   \n",
       "1             4.019599     5618.0              3.963953      969.0   \n",
       "2             4.823212     3307.0              4.676756     1172.0   \n",
       "3             4.425689     1281.0              4.479921      940.0   \n",
       "4             4.425689     1281.0              4.479921      940.0   \n",
       "5             4.425689     1281.0              4.479921      940.0   \n",
       "6             4.164153     1212.0              4.153351     2360.0   \n",
       "7             4.101134   117444.0              4.138054   117192.0   \n",
       "8             4.710799   104241.0              4.587644    30749.0   \n",
       "9             4.710799   104241.0              4.587644    30749.0   \n",
       "\n",
       "    predicted_rating_11   movie_12   predicted_rating_12   is_personalized  \\\n",
       "0              4.120456    95311.0              4.053847               4.0   \n",
       "1              4.174188     1232.0              4.334877               2.0   \n",
       "2              4.649281     1212.0              4.744990               2.0   \n",
       "3              4.355061      905.0              4.317927               3.0   \n",
       "4              4.355061      905.0              4.317927               2.0   \n",
       "5              4.355061      905.0              4.317927               2.0   \n",
       "6              4.206983     5291.0              4.157934               3.0   \n",
       "7              4.164289   117533.0              4.231472               4.0   \n",
       "8              4.870536     4886.0              4.622648               3.0   \n",
       "9              4.870536     4886.0              4.622648               3.0   \n",
       "\n",
       "    enjoy_watching   \n",
       "0               4.0  \n",
       "1               3.0  \n",
       "2               2.0  \n",
       "3               3.0  \n",
       "4               3.0  \n",
       "5               4.0  \n",
       "6               4.0  \n",
       "7               4.0  \n",
       "8               4.0  \n",
       "9               2.0  \n",
       "\n",
       "[10 rows x 34 columns]"
      ]
     },
     "execution_count": 6,
     "metadata": {},
     "output_type": "execute_result"
    }
   ],
   "source": [
    "personality_df.limit(10).toPandas()"
   ]
  },
  {
   "cell_type": "markdown",
   "metadata": {},
   "source": [
    "Check if there are any missing vlaues. Drop rows if there are missing values."
   ]
  },
  {
   "cell_type": "code",
   "execution_count": 7,
   "metadata": {},
   "outputs": [
    {
     "data": {
      "text/html": [
       "<div>\n",
       "<style scoped>\n",
       "    .dataframe tbody tr th:only-of-type {\n",
       "        vertical-align: middle;\n",
       "    }\n",
       "\n",
       "    .dataframe tbody tr th {\n",
       "        vertical-align: top;\n",
       "    }\n",
       "\n",
       "    .dataframe thead th {\n",
       "        text-align: right;\n",
       "    }\n",
       "</style>\n",
       "<table border=\"1\" class=\"dataframe\">\n",
       "  <thead>\n",
       "    <tr style=\"text-align: right;\">\n",
       "      <th></th>\n",
       "      <th>Count</th>\n",
       "    </tr>\n",
       "  </thead>\n",
       "  <tbody>\n",
       "    <tr>\n",
       "      <td>userid</td>\n",
       "      <td>0</td>\n",
       "    </tr>\n",
       "    <tr>\n",
       "      <td>openness</td>\n",
       "      <td>0</td>\n",
       "    </tr>\n",
       "    <tr>\n",
       "      <td>agreeableness</td>\n",
       "      <td>0</td>\n",
       "    </tr>\n",
       "    <tr>\n",
       "      <td>emotional_stability</td>\n",
       "      <td>0</td>\n",
       "    </tr>\n",
       "    <tr>\n",
       "      <td>conscientiousness</td>\n",
       "      <td>0</td>\n",
       "    </tr>\n",
       "    <tr>\n",
       "      <td>extraversion</td>\n",
       "      <td>0</td>\n",
       "    </tr>\n",
       "    <tr>\n",
       "      <td>assigned metric</td>\n",
       "      <td>0</td>\n",
       "    </tr>\n",
       "    <tr>\n",
       "      <td>assigned condition</td>\n",
       "      <td>0</td>\n",
       "    </tr>\n",
       "    <tr>\n",
       "      <td>movie_1</td>\n",
       "      <td>0</td>\n",
       "    </tr>\n",
       "    <tr>\n",
       "      <td>predicted_rating_1</td>\n",
       "      <td>0</td>\n",
       "    </tr>\n",
       "    <tr>\n",
       "      <td>movie_2</td>\n",
       "      <td>0</td>\n",
       "    </tr>\n",
       "    <tr>\n",
       "      <td>predicted_rating_2</td>\n",
       "      <td>0</td>\n",
       "    </tr>\n",
       "    <tr>\n",
       "      <td>movie_3</td>\n",
       "      <td>0</td>\n",
       "    </tr>\n",
       "    <tr>\n",
       "      <td>predicted_rating_3</td>\n",
       "      <td>0</td>\n",
       "    </tr>\n",
       "    <tr>\n",
       "      <td>movie_4</td>\n",
       "      <td>0</td>\n",
       "    </tr>\n",
       "    <tr>\n",
       "      <td>predicted_rating_4</td>\n",
       "      <td>0</td>\n",
       "    </tr>\n",
       "    <tr>\n",
       "      <td>movie_5</td>\n",
       "      <td>0</td>\n",
       "    </tr>\n",
       "    <tr>\n",
       "      <td>predicted_rating_5</td>\n",
       "      <td>0</td>\n",
       "    </tr>\n",
       "    <tr>\n",
       "      <td>movie_6</td>\n",
       "      <td>0</td>\n",
       "    </tr>\n",
       "    <tr>\n",
       "      <td>predicted_rating_6</td>\n",
       "      <td>0</td>\n",
       "    </tr>\n",
       "    <tr>\n",
       "      <td>movie_7</td>\n",
       "      <td>0</td>\n",
       "    </tr>\n",
       "    <tr>\n",
       "      <td>predicted_rating_7</td>\n",
       "      <td>0</td>\n",
       "    </tr>\n",
       "    <tr>\n",
       "      <td>movie_8</td>\n",
       "      <td>0</td>\n",
       "    </tr>\n",
       "    <tr>\n",
       "      <td>predicted_rating_8</td>\n",
       "      <td>0</td>\n",
       "    </tr>\n",
       "    <tr>\n",
       "      <td>movie_9</td>\n",
       "      <td>0</td>\n",
       "    </tr>\n",
       "    <tr>\n",
       "      <td>predicted_rating_9</td>\n",
       "      <td>0</td>\n",
       "    </tr>\n",
       "    <tr>\n",
       "      <td>movie_10</td>\n",
       "      <td>0</td>\n",
       "    </tr>\n",
       "    <tr>\n",
       "      <td>predicted_rating_10</td>\n",
       "      <td>0</td>\n",
       "    </tr>\n",
       "    <tr>\n",
       "      <td>movie_11</td>\n",
       "      <td>0</td>\n",
       "    </tr>\n",
       "    <tr>\n",
       "      <td>predicted_rating_11</td>\n",
       "      <td>0</td>\n",
       "    </tr>\n",
       "    <tr>\n",
       "      <td>movie_12</td>\n",
       "      <td>0</td>\n",
       "    </tr>\n",
       "    <tr>\n",
       "      <td>predicted_rating_12</td>\n",
       "      <td>0</td>\n",
       "    </tr>\n",
       "    <tr>\n",
       "      <td>is_personalized</td>\n",
       "      <td>0</td>\n",
       "    </tr>\n",
       "    <tr>\n",
       "      <td>enjoy_watching</td>\n",
       "      <td>0</td>\n",
       "    </tr>\n",
       "  </tbody>\n",
       "</table>\n",
       "</div>"
      ],
      "text/plain": [
       "                      Count\n",
       "userid                    0\n",
       " openness                 0\n",
       " agreeableness            0\n",
       " emotional_stability      0\n",
       " conscientiousness        0\n",
       " extraversion             0\n",
       " assigned metric          0\n",
       " assigned condition       0\n",
       " movie_1                  0\n",
       " predicted_rating_1       0\n",
       " movie_2                  0\n",
       " predicted_rating_2       0\n",
       " movie_3                  0\n",
       " predicted_rating_3       0\n",
       " movie_4                  0\n",
       " predicted_rating_4       0\n",
       " movie_5                  0\n",
       " predicted_rating_5       0\n",
       " movie_6                  0\n",
       " predicted_rating_6       0\n",
       " movie_7                  0\n",
       " predicted_rating_7       0\n",
       " movie_8                  0\n",
       " predicted_rating_8       0\n",
       " movie_9                  0\n",
       " predicted_rating_9       0\n",
       " movie_10                 0\n",
       " predicted_rating_10      0\n",
       " movie_11                 0\n",
       " predicted_rating_11      0\n",
       " movie_12                 0\n",
       " predicted_rating_12      0\n",
       " is_personalized          0\n",
       " enjoy_watching           0"
      ]
     },
     "execution_count": 7,
     "metadata": {},
     "output_type": "execute_result"
    }
   ],
   "source": [
    "personality_df.select([count(when(isnan(c), c)).alias(c) for c in personality_df.columns]).toPandas().rename(index ={0:'Count'}).T\n",
    "#personality_df = personality_df.na.drop() #There are no missing values"
   ]
  },
  {
   "cell_type": "markdown",
   "metadata": {},
   "source": [
    "Show columns name. "
   ]
  },
  {
   "cell_type": "code",
   "execution_count": 8,
   "metadata": {},
   "outputs": [
    {
     "data": {
      "text/plain": [
       "['userid',\n",
       " ' openness',\n",
       " ' agreeableness',\n",
       " ' emotional_stability',\n",
       " ' conscientiousness',\n",
       " ' extraversion',\n",
       " ' assigned metric',\n",
       " ' assigned condition',\n",
       " ' movie_1',\n",
       " ' predicted_rating_1',\n",
       " ' movie_2',\n",
       " ' predicted_rating_2',\n",
       " ' movie_3',\n",
       " ' predicted_rating_3',\n",
       " ' movie_4',\n",
       " ' predicted_rating_4',\n",
       " ' movie_5',\n",
       " ' predicted_rating_5',\n",
       " ' movie_6',\n",
       " ' predicted_rating_6',\n",
       " ' movie_7',\n",
       " ' predicted_rating_7',\n",
       " ' movie_8',\n",
       " ' predicted_rating_8',\n",
       " ' movie_9',\n",
       " ' predicted_rating_9',\n",
       " ' movie_10',\n",
       " ' predicted_rating_10',\n",
       " ' movie_11',\n",
       " ' predicted_rating_11',\n",
       " ' movie_12',\n",
       " ' predicted_rating_12',\n",
       " ' is_personalized',\n",
       " ' enjoy_watching ']"
      ]
     },
     "execution_count": 8,
     "metadata": {},
     "output_type": "execute_result"
    }
   ],
   "source": [
    "personality_df.columns\n",
    "#The output shows that there are unwanted trailing whitespaces in the columns name."
   ]
  },
  {
   "cell_type": "markdown",
   "metadata": {},
   "source": [
    "## Clean Data\n",
    "\n",
    "Remove the trailing whitespaces in column names, and also convert space between texts to underscore."
   ]
  },
  {
   "cell_type": "code",
   "execution_count": 9,
   "metadata": {},
   "outputs": [],
   "source": [
    "for colname in personality_df.columns:\n",
    "    personality_df = personality_df.withColumnRenamed(colname,colname.strip().replace(' ','_'))"
   ]
  },
  {
   "cell_type": "markdown",
   "metadata": {},
   "source": [
    "Confirm that the whitespaces are handled correctly."
   ]
  },
  {
   "cell_type": "code",
   "execution_count": 10,
   "metadata": {},
   "outputs": [
    {
     "data": {
      "text/plain": [
       "['userid',\n",
       " 'openness',\n",
       " 'agreeableness',\n",
       " 'emotional_stability',\n",
       " 'conscientiousness',\n",
       " 'extraversion',\n",
       " 'assigned_metric',\n",
       " 'assigned_condition',\n",
       " 'movie_1',\n",
       " 'predicted_rating_1',\n",
       " 'movie_2',\n",
       " 'predicted_rating_2',\n",
       " 'movie_3',\n",
       " 'predicted_rating_3',\n",
       " 'movie_4',\n",
       " 'predicted_rating_4',\n",
       " 'movie_5',\n",
       " 'predicted_rating_5',\n",
       " 'movie_6',\n",
       " 'predicted_rating_6',\n",
       " 'movie_7',\n",
       " 'predicted_rating_7',\n",
       " 'movie_8',\n",
       " 'predicted_rating_8',\n",
       " 'movie_9',\n",
       " 'predicted_rating_9',\n",
       " 'movie_10',\n",
       " 'predicted_rating_10',\n",
       " 'movie_11',\n",
       " 'predicted_rating_11',\n",
       " 'movie_12',\n",
       " 'predicted_rating_12',\n",
       " 'is_personalized',\n",
       " 'enjoy_watching']"
      ]
     },
     "execution_count": 10,
     "metadata": {},
     "output_type": "execute_result"
    }
   ],
   "source": [
    "personality_df.columns"
   ]
  },
  {
   "cell_type": "markdown",
   "metadata": {},
   "source": [
    "There are also trailing whitespaces in the values from columns 'assigned_metric' and 'assigned_metric'."
   ]
  },
  {
   "cell_type": "code",
   "execution_count": 11,
   "metadata": {},
   "outputs": [
    {
     "name": "stdout",
     "output_type": "stream",
     "text": [
      "[Row(assigned_metric=' popularity'), Row(assigned_metric=' serendipity'), Row(assigned_metric=' diversity'), Row(assigned_metric=' all')]\n",
      "--------------------\n",
      "[Row(assigned_condition=' medium'), Row(assigned_condition=' high'), Row(assigned_condition=' low'), Row(assigned_condition=' default')]\n"
     ]
    }
   ],
   "source": [
    "print(personality_df.select('assigned_metric').distinct().collect())\n",
    "print('-'*20)\n",
    "print(personality_df.select('assigned_condition').distinct().collect())"
   ]
  },
  {
   "cell_type": "markdown",
   "metadata": {},
   "source": [
    "Remove the trailing whitespaces in columns 'assigned_metric' and 'assigned_metric'."
   ]
  },
  {
   "cell_type": "code",
   "execution_count": 12,
   "metadata": {},
   "outputs": [],
   "source": [
    "personality_df = personality_df.withColumn('assigned_metric', trim(col('assigned_metric')))\n",
    "personality_df = personality_df.withColumn('assigned_condition', trim(col('assigned_condition')))"
   ]
  },
  {
   "cell_type": "markdown",
   "metadata": {},
   "source": [
    "Print out schema in tree format."
   ]
  },
  {
   "cell_type": "code",
   "execution_count": 13,
   "metadata": {},
   "outputs": [
    {
     "name": "stdout",
     "output_type": "stream",
     "text": [
      "root\n",
      " |-- userid: string (nullable = true)\n",
      " |-- openness: double (nullable = true)\n",
      " |-- agreeableness: double (nullable = true)\n",
      " |-- emotional_stability: double (nullable = true)\n",
      " |-- conscientiousness: double (nullable = true)\n",
      " |-- extraversion: double (nullable = true)\n",
      " |-- assigned_metric: string (nullable = true)\n",
      " |-- assigned_condition: string (nullable = true)\n",
      " |-- movie_1: double (nullable = true)\n",
      " |-- predicted_rating_1: double (nullable = true)\n",
      " |-- movie_2: double (nullable = true)\n",
      " |-- predicted_rating_2: double (nullable = true)\n",
      " |-- movie_3: double (nullable = true)\n",
      " |-- predicted_rating_3: double (nullable = true)\n",
      " |-- movie_4: double (nullable = true)\n",
      " |-- predicted_rating_4: double (nullable = true)\n",
      " |-- movie_5: double (nullable = true)\n",
      " |-- predicted_rating_5: double (nullable = true)\n",
      " |-- movie_6: double (nullable = true)\n",
      " |-- predicted_rating_6: double (nullable = true)\n",
      " |-- movie_7: double (nullable = true)\n",
      " |-- predicted_rating_7: double (nullable = true)\n",
      " |-- movie_8: double (nullable = true)\n",
      " |-- predicted_rating_8: double (nullable = true)\n",
      " |-- movie_9: double (nullable = true)\n",
      " |-- predicted_rating_9: double (nullable = true)\n",
      " |-- movie_10: double (nullable = true)\n",
      " |-- predicted_rating_10: double (nullable = true)\n",
      " |-- movie_11: double (nullable = true)\n",
      " |-- predicted_rating_11: double (nullable = true)\n",
      " |-- movie_12: double (nullable = true)\n",
      " |-- predicted_rating_12: double (nullable = true)\n",
      " |-- is_personalized: double (nullable = true)\n",
      " |-- enjoy_watching: double (nullable = true)\n",
      "\n"
     ]
    }
   ],
   "source": [
    "personality_df.printSchema() #show schema"
   ]
  },
  {
   "cell_type": "markdown",
   "metadata": {},
   "source": [
    "### Data Exploration\n",
    "\n",
    "Count how many pariticpants are assigned to each metric and condition."
   ]
  },
  {
   "cell_type": "code",
   "execution_count": 14,
   "metadata": {},
   "outputs": [
    {
     "name": "stdout",
     "output_type": "stream",
     "text": [
      "+---------------+------------------+-----+\n",
      "|assigned_metric|assigned_condition|count|\n",
      "+---------------+------------------+-----+\n",
      "|            all|           default|  208|\n",
      "|      diversity|              high|  176|\n",
      "|      diversity|               low|  170|\n",
      "|      diversity|            medium|  174|\n",
      "|     popularity|              high|  178|\n",
      "|     popularity|               low|  204|\n",
      "|     popularity|            medium|  192|\n",
      "|    serendipity|              high|  200|\n",
      "|    serendipity|               low|  160|\n",
      "|    serendipity|            medium|  172|\n",
      "+---------------+------------------+-----+\n",
      "\n"
     ]
    }
   ],
   "source": [
    "personality_df.select('assigned_metric','assigned_condition').groupby('assigned_metric','assigned_condition') \\\n",
    ".agg(count('*').alias('count')).orderBy('assigned_metric','assigned_condition').show()"
   ]
  },
  {
   "cell_type": "markdown",
   "metadata": {},
   "source": [
    "Compute mean \"openness\" of each assigned metric."
   ]
  },
  {
   "cell_type": "code",
   "execution_count": 15,
   "metadata": {},
   "outputs": [
    {
     "data": {
      "text/plain": [
       "[Row(assigned_metric='serendipity', avg(openness)=5.333646616541353),\n",
       " Row(assigned_metric='popularity', avg(openness)=5.40418118466899),\n",
       " Row(assigned_metric='all', avg(openness)=5.4639423076923075),\n",
       " Row(assigned_metric='diversity', avg(openness)=5.354807692307692)]"
      ]
     },
     "execution_count": 15,
     "metadata": {},
     "output_type": "execute_result"
    }
   ],
   "source": [
    "personality_df.groupBy('assigned_metric').mean('openness').collect()"
   ]
  },
  {
   "cell_type": "markdown",
   "metadata": {},
   "source": [
    "Compute mean \"openness\" of each assigned conditon where 'assigned metric' = 'diversity'."
   ]
  },
  {
   "cell_type": "code",
   "execution_count": 16,
   "metadata": {},
   "outputs": [
    {
     "name": "stdout",
     "output_type": "stream",
     "text": [
      "+------------------+------------------+\n",
      "|assigned_condition|     avg(openness)|\n",
      "+------------------+------------------+\n",
      "|               low|5.3617647058823525|\n",
      "|              high| 5.400568181818182|\n",
      "|            medium| 5.301724137931035|\n",
      "+------------------+------------------+\n",
      "\n"
     ]
    }
   ],
   "source": [
    "personality_df.filter(personality_df.assigned_metric == 'diversity').groupby('assigned_condition').agg(avg(\"openness\")).show()"
   ]
  },
  {
   "cell_type": "markdown",
   "metadata": {},
   "source": [
    "## Data Visualization - 1\n",
    "\n",
    "Compute mean rating of each assigned metric and condition."
   ]
  },
  {
   "cell_type": "code",
   "execution_count": 17,
   "metadata": {},
   "outputs": [
    {
     "name": "stdout",
     "output_type": "stream",
     "text": [
      "+---------------+------------------+------------------+\n",
      "|assigned_metric|assigned_condition|       mean_rating|\n",
      "+---------------+------------------+------------------+\n",
      "|      diversity|            medium| 3.689655172413793|\n",
      "|      diversity|               low| 3.541176470588235|\n",
      "|     popularity|            medium|3.5208333333333335|\n",
      "|     popularity|              high|3.6123595505617976|\n",
      "|    serendipity|            medium| 3.453488372093023|\n",
      "|    serendipity|               low|           3.74375|\n",
      "|    serendipity|              high|               3.4|\n",
      "|     popularity|               low| 3.264705882352941|\n",
      "|            all|           default| 3.576923076923077|\n",
      "|      diversity|              high|3.4431818181818183|\n",
      "+---------------+------------------+------------------+\n",
      "\n"
     ]
    }
   ],
   "source": [
    "data_table = personality_df.groupBy('assigned_metric','assigned_condition').agg(avg('enjoy_watching').alias('mean_rating'))\n",
    "data_table.show()"
   ]
  },
  {
   "cell_type": "markdown",
   "metadata": {},
   "source": [
    "Collect data for visualization."
   ]
  },
  {
   "cell_type": "code",
   "execution_count": 18,
   "metadata": {},
   "outputs": [],
   "source": [
    "data_list = data_table.collect()\n",
    "metric = [row['assigned_metric'] for row in data_list]\n",
    "condition = [row['assigned_condition'] for row in data_list]\n",
    "rating = [row['mean_rating'] for row in data_list]"
   ]
  },
  {
   "cell_type": "markdown",
   "metadata": {},
   "source": [
    "Plot bar chart using **seaborn** and **matplotlib**."
   ]
  },
  {
   "cell_type": "code",
   "execution_count": 19,
   "metadata": {},
   "outputs": [
    {
     "data": {
      "text/plain": [
       "<matplotlib.legend.Legend at 0x7f9cf80ed310>"
      ]
     },
     "execution_count": 19,
     "metadata": {},
     "output_type": "execute_result"
    },
    {
     "data": {
      "image/png": "[encoded data removed]",
      "text/plain": [
       "<Figure size 432x288 with 1 Axes>"
      ]
     },
     "metadata": {
      "needs_background": "light"
     },
     "output_type": "display_data"
    }
   ],
   "source": [
    "sns.barplot(metric,rating,hue=condition)\n",
    "plt.ylim(3,4)\n",
    "plt.legend(bbox_to_anchor=(1.05, 1), loc=2, borderaxespad=0)"
   ]
  },
  {
   "cell_type": "markdown",
   "metadata": {},
   "source": [
    "## Data Visualization - 2\n",
    "\n",
    "Create violin plot of 'enjoy_watching' grouped by assigned metric and condition, using **seaborn** and **matplotlib**."
   ]
  },
  {
   "cell_type": "code",
   "execution_count": 20,
   "metadata": {},
   "outputs": [],
   "source": [
    "data_table2 = personality_df.select('assigned_metric','assigned_condition','enjoy_watching')\n",
    "data_list2 = data_table2.collect()"
   ]
  },
  {
   "cell_type": "code",
   "execution_count": 21,
   "metadata": {},
   "outputs": [],
   "source": [
    "metric2 = [row['assigned_metric'] for row in data_list2]\n",
    "condition2 = [row['assigned_condition'] for row in data_list2]\n",
    "rating2 = [row['enjoy_watching'] for row in data_list2]"
   ]
  },
  {
   "cell_type": "code",
   "execution_count": 22,
   "metadata": {},
   "outputs": [
    {
     "data": {
      "text/plain": [
       "<matplotlib.legend.Legend at 0x7f9cf820d950>"
      ]
     },
     "execution_count": 22,
     "metadata": {},
     "output_type": "execute_result"
    },
    {
     "data": {
      "image/png": "[encoded data removed]",
      "text/plain": [
       "<Figure size 432x288 with 1 Axes>"
      ]
     },
     "metadata": {
      "needs_background": "light"
     },
     "output_type": "display_data"
    }
   ],
   "source": [
    "sns.violinplot(metric2,rating2,hue=condition2)\n",
    "plt.legend(bbox_to_anchor=(1.05, 1), loc=2, borderaxespad=0)"
   ]
  }
 ],
 "metadata": {
  "kernelspec": {
   "display_name": "Python 3",
   "language": "python",
   "name": "python3"
  },
  "language_info": {
   "codemirror_mode": {
    "name": "ipython",
    "version": 3
   },
   "file_extension": ".py",
   "mimetype": "text/x-python",
   "name": "python",
   "nbconvert_exporter": "python",
   "pygments_lexer": "ipython3",
   "version": "3.7.4"
  }
 },
 "nbformat": 4,
 "nbformat_minor": 2
}
